{
  "nbformat": 4,
  "nbformat_minor": 0,
  "metadata": {
    "colab": {
      "name": "Neural Network with one hidden layer",
      "provenance": []
    },
    "kernelspec": {
      "name": "python3",
      "display_name": "Python 3"
    }
  },
  "cells": [
    {
      "cell_type": "markdown",
      "metadata": {
        "id": "O2umdeJeNAgP",
        "colab_type": "text"
      },
      "source": [
        "# Neural Network with Single Hidden Layer"
      ]
    },
    {
      "cell_type": "code",
      "metadata": {
        "id": "HVHwUeADpqC6",
        "colab_type": "code",
        "colab": {}
      },
      "source": [
        "import numpy as np\n",
        "import matplotlib.pyplot as plt"
      ],
      "execution_count": 7,
      "outputs": []
    },
    {
      "cell_type": "code",
      "metadata": {
        "id": "XcAs1nGEpUV7",
        "colab_type": "code",
        "colab": {}
      },
      "source": [
        "# Sigmoid function\n",
        "\n",
        "def sigmoid(z):\n",
        "\n",
        "  val = 1/(1+np.exp(-z))\n",
        "\n",
        "  return val"
      ],
      "execution_count": 8,
      "outputs": []
    },
    {
      "cell_type": "code",
      "metadata": {
        "id": "NyzxdlV5NKti",
        "colab_type": "code",
        "colab": {}
      },
      "source": [
        "# Layer size\n",
        "\n",
        "def layer_size(X,Y):\n",
        "\n",
        "  n_x = X.shape[0]\n",
        "  n_y = Y.shape[0]\n",
        "  n_h = 4\n",
        "\n",
        "  return (n_x, n_h, n_y)"
      ],
      "execution_count": 9,
      "outputs": []
    },
    {
      "cell_type": "code",
      "metadata": {
        "id": "_fscZjnzn2jn",
        "colab_type": "code",
        "colab": {}
      },
      "source": [
        "# Initialize parameters\n",
        "\n",
        "def init_params(n_x, n_h, n_y):\n",
        "\n",
        "  W1 = np.random.randn(n_h, n_x) * 0.01\n",
        "  b1 = np.zeros((n_h, 1))\n",
        "  W2 = np.random.randn(n_y, n_h) * 0.01\n",
        "  b2 = np.zeros((n_y,1))\n",
        "\n",
        "  params = {\"W1\": W1,\n",
        "            \"b1\": b1,\n",
        "            \"W2\": W2,\n",
        "            \"b2\": b2}\n",
        "\n",
        "  return params"
      ],
      "execution_count": 10,
      "outputs": []
    },
    {
      "cell_type": "code",
      "metadata": {
        "id": "vSj-PAUrpEdE",
        "colab_type": "code",
        "colab": {}
      },
      "source": [
        "# Forward Propagation\n",
        "\n",
        "def forward_propagation(X, params):\n",
        "\n",
        "  W1 = params[\"W1\"]\n",
        "  b1 = params[\"b1\"]\n",
        "  W2 = params[\"W2\"]\n",
        "  b2 = params[\"b2\"]\n",
        "\n",
        "  Z1 = np.dot(W1,X) + b1\n",
        "  A1 = np.tanh(Z1)\n",
        "  Z2 = np.dot(W2,A1) + b2\n",
        "  A2 = np.tanh(Z2)\n",
        "\n",
        "  cache = {\"Z1\": Z1,\n",
        "           \"A1\": b1,\n",
        "           \"Z2\": Z2,\n",
        "           \"A2\": A2\n",
        "           }\n",
        "\n",
        "  return A2, cache"
      ],
      "execution_count": 11,
      "outputs": []
    },
    {
      "cell_type": "code",
      "metadata": {
        "id": "JaMR9Ucer1GN",
        "colab_type": "code",
        "colab": {}
      },
      "source": [
        "# Cost function\n",
        "def cost_computation(A2, Y):\n",
        "\n",
        "  m = Y.shape[1]\n",
        "\n",
        "  cost = (-1/m) * np.sum( np.multiply(np.log(A2),Y) + np.multiply(np.log(1-A2),1-Y) )\n",
        "\n",
        "  return cost"
      ],
      "execution_count": 13,
      "outputs": []
    },
    {
      "cell_type": "code",
      "metadata": {
        "id": "qSHrqHCJuhqy",
        "colab_type": "code",
        "colab": {}
      },
      "source": [
        "# Backward propagation\n",
        "\n",
        "def backward_propagation(params, cache, X, Y):\n",
        "\n",
        "  m = X.shape[1]\n",
        "\n",
        "  W1 = params[\"W1\"]\n",
        "  W2 = params[\"W2\"]\n",
        "\n",
        "  A1 = cache[\"A1\"]\n",
        "  A2 = cache[\"A2\"]\n",
        "\n",
        "  dZ2 = A2 - Y\n",
        "  dW2 = (1/m) * np.dot(dZ2, A1.T)\n",
        "  db2 = (1/m) * np.sum(dZ2, axis = 1, keepdims = True)\n",
        "  dZ1 = np.dot(W2.T, dZ2) * (1-np.power(A1,2))\n",
        "  dW1 = (1/m) * np.dot(dZ1, X.T)\n",
        "  db1 = (1/m) * np.sum(dZ1, axis = 1, keepdims= True)\n",
        "\n",
        "  grads = {\"dW1\": dW1,\n",
        "           \"db1\": db1,\n",
        "           \"dW2\": dW2,\n",
        "           \"db2\": db2}\n",
        "  \n",
        "  return grads\n"
      ],
      "execution_count": 14,
      "outputs": []
    },
    {
      "cell_type": "code",
      "metadata": {
        "id": "UwrHv3jAyFQZ",
        "colab_type": "code",
        "colab": {}
      },
      "source": [
        "# update parameters\n"
      ],
      "execution_count": null,
      "outputs": []
    }
  ]
}