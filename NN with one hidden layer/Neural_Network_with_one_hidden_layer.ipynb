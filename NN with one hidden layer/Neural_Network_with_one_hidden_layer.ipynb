{
  "nbformat": 4,
  "nbformat_minor": 0,
  "metadata": {
    "colab": {
      "name": "Untitled",
      "provenance": []
    },
    "kernelspec": {
      "name": "python3",
      "display_name": "Python 3"
    }
  },
  "cells": [
    {
      "cell_type": "markdown",
      "metadata": {
        "id": "O2umdeJeNAgP",
        "colab_type": "text"
      },
      "source": [
        "# Neural Network with Single Hidden Layer"
      ]
    },
    {
      "cell_type": "code",
      "metadata": {
        "id": "HVHwUeADpqC6",
        "colab_type": "code",
        "colab": {}
      },
      "source": [
        "import numpy as np\n",
        "import matplotlib.pyplot as plt"
      ],
      "execution_count": 35,
      "outputs": []
    },
    {
      "cell_type": "code",
      "metadata": {
        "id": "XcAs1nGEpUV7",
        "colab_type": "code",
        "colab": {}
      },
      "source": [
        "# Sigmoid function\n",
        "\n",
        "def sigmoid(z):\n",
        "\n",
        "  val = 1/(1+np.exp(-z))\n",
        "\n",
        "  return val"
      ],
      "execution_count": 36,
      "outputs": []
    },
    {
      "cell_type": "code",
      "metadata": {
        "id": "NyzxdlV5NKti",
        "colab_type": "code",
        "colab": {}
      },
      "source": [
        "# Layer size\n",
        "\n",
        "def layer_size(X,Y):\n",
        "\n",
        "  n_x = X.shape[0]\n",
        "  n_y = Y.shape[0]\n",
        "  n_h = 4\n",
        "\n",
        "  return (n_x, n_h, n_y)"
      ],
      "execution_count": 37,
      "outputs": []
    },
    {
      "cell_type": "code",
      "metadata": {
        "id": "_fscZjnzn2jn",
        "colab_type": "code",
        "colab": {}
      },
      "source": [
        "# Initialize parameters\n",
        "\n",
        "def init_params(n_x, n_h, n_y):\n",
        "\n",
        "  W1 = np.random.randn(n_h, n_x) * 0.01\n",
        "  b1 = np.zeros((n_h, 1))\n",
        "  W2 = np.random.randn(n_y, n_h) * 0.01\n",
        "  b2 = np.zeros((n_y,1))\n",
        "\n",
        "  params = {\"W1\": W1,\n",
        "            \"b1\": b1,\n",
        "            \"W2\": W2,\n",
        "            \"b2\": b2}\n",
        "\n",
        "  return params"
      ],
      "execution_count": 38,
      "outputs": []
    },
    {
      "cell_type": "code",
      "metadata": {
        "id": "vSj-PAUrpEdE",
        "colab_type": "code",
        "colab": {}
      },
      "source": [
        "# Forward Propagation\n",
        "\n",
        "def forward_propagation(X, params):\n",
        "\n",
        "  W1 = params[\"W1\"]\n",
        "  b1 = params[\"b1\"]\n",
        "  W2 = params[\"W2\"]\n",
        "  b2 = params[\"b2\"]\n",
        "\n",
        "  Z1 = np.dot(W1,X) + b1\n",
        "  A1 = np.tanh(Z1)\n",
        "  Z2 = np.dot(W2,A1) + b2\n",
        "  A2 = np.tanh(Z2)\n",
        "\n",
        "  cache = {\"Z1\": Z1,\n",
        "           \"A1\": b1,\n",
        "           \"Z2\": Z2,\n",
        "           \"A2\": A2\n",
        "           }\n",
        "\n",
        "  return A2, cache"
      ],
      "execution_count": 39,
      "outputs": []
    },
    {
      "cell_type": "code",
      "metadata": {
        "id": "JaMR9Ucer1GN",
        "colab_type": "code",
        "colab": {}
      },
      "source": [
        "# Cost function\n",
        "def cost_computation(A2, Y):\n",
        "\n",
        "  m = Y.shape[1]\n",
        "\n",
        "  cost = (-1/m) * np.sum( np.multiply(np.log(A2),Y) + np.multiply(np.log(1-A2),1-Y) )\n",
        "\n",
        "  cost = float(np.squeeze(cost))\n",
        "\n",
        "  return cost"
      ],
      "execution_count": 40,
      "outputs": []
    },
    {
      "cell_type": "code",
      "metadata": {
        "id": "qSHrqHCJuhqy",
        "colab_type": "code",
        "colab": {}
      },
      "source": [
        "# Backward propagation\n",
        "\n",
        "def backward_propagation(params, cache, X, Y):\n",
        "\n",
        "  m = X.shape[1]\n",
        "\n",
        "  W1 = params[\"W1\"]\n",
        "  W2 = params[\"W2\"]\n",
        "\n",
        "  A1 = cache[\"A1\"]\n",
        "  A2 = cache[\"A2\"]\n",
        "\n",
        "  dZ2 = A2 - Y\n",
        "  dW2 = (1/m) * np.dot(dZ2, A1.T)\n",
        "  db2 = (1/m) * np.sum(dZ2, axis = 1, keepdims = True)\n",
        "  dZ1 = np.dot(W2.T, dZ2) * (1-np.power(A1,2))\n",
        "  dW1 = (1/m) * np.dot(dZ1, X.T)\n",
        "  db1 = (1/m) * np.sum(dZ1, axis = 1, keepdims= True)\n",
        "\n",
        "  grads = {\"dW1\": dW1,\n",
        "           \"db1\": db1,\n",
        "           \"dW2\": dW2,\n",
        "           \"db2\": db2}\n",
        "  \n",
        "  return grads\n"
      ],
      "execution_count": 41,
      "outputs": []
    },
    {
      "cell_type": "code",
      "metadata": {
        "id": "UwrHv3jAyFQZ",
        "colab_type": "code",
        "colab": {}
      },
      "source": [
        "# update parameters\n",
        "\n",
        "def update_parameters(params, grads, alpha=1.2):\n",
        "\n",
        "  W1 = params[\"W1\"]\n",
        "  b1 = params[\"b1\"]\n",
        "  W2 = params[\"W2\"]\n",
        "  b2 = params[\"b2\"]\n",
        "\n",
        "  dW1 = grads[\"dW1\"]\n",
        "  db1 = grads[\"db1\"]\n",
        "  dW2 = grads[\"dW2\"]\n",
        "  db2 = grads[\"db2\"]\n",
        "\n",
        "  W1 = W1 - alpha*dW1\n",
        "  b1 = W1 - alpha*db1\n",
        "  W2 = W2 - alpha*dW2\n",
        "  b2 = b2 - alpha*db2\n",
        "\n",
        "  params = {\"W1\": W1,\n",
        "            \"b1\": b1,\n",
        "            \"W2\": W2,\n",
        "            \"b2\": b2}\n",
        "\n",
        "  return params"
      ],
      "execution_count": 76,
      "outputs": []
    },
    {
      "cell_type": "code",
      "metadata": {
        "id": "nnKUa4H63A_V",
        "colab_type": "code",
        "colab": {}
      },
      "source": [
        "# Predict\n",
        "def predict(params, X):\n",
        "\n",
        "  A2, cache = forward_propagation(X, params)\n",
        "  prediction = (A2 > 0.5)\n",
        "\n",
        "  return prediction"
      ],
      "execution_count": 43,
      "outputs": []
    },
    {
      "cell_type": "code",
      "metadata": {
        "id": "nBm7ANVEoTxS",
        "colab_type": "code",
        "colab": {}
      },
      "source": [
        "# final model\n",
        "def nn_model(X, Y, n_h, num_iterations):\n",
        "\n",
        "  n_x = layer_size(X, Y)[0]\n",
        "  n_y = layer_size(X, Y)[2]\n",
        "\n",
        "  # initialize parameters\n",
        "  params = init_params(n_x, n_h, n_y)\n",
        "\n",
        "  for i in range(0, num_iterations):\n",
        "\n",
        "    # forward propagation\n",
        "    A2, cache = forward_propagation(X, params)\n",
        "\n",
        "    # cost function\n",
        "    cost = cost_computation(A2, Y)\n",
        "\n",
        "    # backward propagation\n",
        "    grads = backward_propagation(params, cache, X, Y)\n",
        "\n",
        "    # update parameters\n",
        "    params = update_parameters(params, grads)\n",
        "\n",
        "    # predict\n",
        "    Y_prediction = predict(params, X)\n",
        "    print ('Accuracy: %d' % float((np.dot(Y,predictions.T) + np.dot(1-Y,1-predictions.T))/float(Y.size)*100) + '%')\n",
        "\n",
        "    if i%1000 == 0:\n",
        "      print(\"cost after iteration %i: %f\" %(i,cost))\n",
        "\n",
        "  return params"
      ],
      "execution_count": 77,
      "outputs": []
    },
    {
      "cell_type": "markdown",
      "metadata": {
        "id": "2obW7jzm5O5j",
        "colab_type": "text"
      },
      "source": [
        "**Training digits dataset**"
      ]
    },
    {
      "cell_type": "code",
      "metadata": {
        "id": "3Kxv9J6etbU-",
        "colab_type": "code",
        "colab": {}
      },
      "source": [
        "from sklearn.datasets import load_digits\n",
        "digits = load_digits()"
      ],
      "execution_count": 78,
      "outputs": []
    },
    {
      "cell_type": "code",
      "metadata": {
        "id": "FzJKe-62654u",
        "colab_type": "code",
        "colab": {
          "base_uri": "https://localhost:8080/",
          "height": 54
        },
        "outputId": "3b9928ed-422e-4674-9208-7afa0aa75129"
      },
      "source": [
        "print(\"Input shape: \" + str(digits.data.shape))\n",
        "print(\"Target data shape: \" + str(digits.target.shape))"
      ],
      "execution_count": 79,
      "outputs": [
        {
          "output_type": "stream",
          "text": [
            "Input shape: (1797, 64)\n",
            "Target data shape: (1797,)\n"
          ],
          "name": "stdout"
        }
      ]
    },
    {
      "cell_type": "code",
      "metadata": {
        "id": "QMxYMrI_7-9r",
        "colab_type": "code",
        "colab": {}
      },
      "source": [
        "from sklearn.model_selection import train_test_split\n",
        "x_train, x_test, y_train, y_test = train_test_split(digits.data, digits.target, test_size = 0.25, random_state=0)"
      ],
      "execution_count": 80,
      "outputs": []
    },
    {
      "cell_type": "code",
      "metadata": {
        "id": "ScvBkyBA83Yi",
        "colab_type": "code",
        "colab": {
          "base_uri": "https://localhost:8080/",
          "height": 54
        },
        "outputId": "a1def746-ed62-4688-cd7f-bb19fb9b590a"
      },
      "source": [
        "x_train = x_train.reshape(x_train.shape[0], -1).T\n",
        "x_train = x_train/255\n",
        "y_train = y_train.reshape(1, y_train.shape[0])\n",
        "\n",
        "print(\"x_train shape: \" + str(x_train.shape))\n",
        "print(\"y_train shape: \" + str(y_train.shape))"
      ],
      "execution_count": 81,
      "outputs": [
        {
          "output_type": "stream",
          "text": [
            "x_train shape: (64, 1347)\n",
            "y_train shape: (1, 1347)\n"
          ],
          "name": "stdout"
        }
      ]
    }
  ]
}