{
  "nbformat": 4,
  "nbformat_minor": 0,
  "metadata": {
    "colab": {
      "name": "single layer neural network.ipynb",
      "provenance": [],
      "collapsed_sections": []
    },
    "kernelspec": {
      "name": "python3",
      "display_name": "Python 3"
    }
  },
  "cells": [
    {
      "cell_type": "markdown",
      "metadata": {
        "id": "2q7lQUjYGBPw",
        "colab_type": "text"
      },
      "source": [
        "# Single Layer Neural Network"
      ]
    },
    {
      "cell_type": "code",
      "metadata": {
        "id": "3U17f_s2BO8h",
        "colab_type": "code",
        "colab": {}
      },
      "source": [
        "import numpy as np\n",
        "import matplotlib.pyplot as plt"
      ],
      "execution_count": 79,
      "outputs": []
    },
    {
      "cell_type": "code",
      "metadata": {
        "id": "zk3tSb0DKr35",
        "colab_type": "code",
        "colab": {}
      },
      "source": [
        "# Activation function\n",
        "\n",
        "def sigmoid(z):\n",
        "\n",
        "  val = 1/(1+np.exp(-z))\n",
        "\n",
        "  return val"
      ],
      "execution_count": 80,
      "outputs": []
    },
    {
      "cell_type": "code",
      "metadata": {
        "id": "xGhtMAGmKkYq",
        "colab_type": "code",
        "colab": {}
      },
      "source": [
        "# Initializing parameters\n",
        "\n",
        "def init_parameters(dim):\n",
        "\n",
        "  w = np.zeros((dim,1), dtype=int)\n",
        "  b = 0\n",
        "\n",
        "  return w,b"
      ],
      "execution_count": 81,
      "outputs": []
    },
    {
      "cell_type": "code",
      "metadata": {
        "id": "FiVEByIsNHNJ",
        "colab_type": "code",
        "colab": {
          "base_uri": "https://localhost:8080/",
          "height": 108
        },
        "outputId": "8c398b9c-40f4-4e44-ef42-1bb5fbba8639"
      },
      "source": [
        "w, b = init_parameters(4)\n",
        "\n",
        "print(\"w = \" + str(w))\n",
        "print(\"b = \" + str(b))"
      ],
      "execution_count": null,
      "outputs": [
        {
          "output_type": "stream",
          "text": [
            "w = [[-0.17334324]\n",
            " [-0.11705563]\n",
            " [-1.02097082]\n",
            " [ 0.07737618]]\n",
            "b = 0.2\n"
          ],
          "name": "stdout"
        }
      ]
    },
    {
      "cell_type": "code",
      "metadata": {
        "id": "X1J-9zpuLl0v",
        "colab_type": "code",
        "colab": {}
      },
      "source": [
        "# Propagation\n",
        "\n",
        "def propagate(w,b,X,Y):\n",
        "\n",
        "  # no. of training examples\n",
        "  m = X.shape[1]\n",
        "\n",
        "  # forward propagation\n",
        "  z = np.dot((w.T),X) + b\n",
        "  A = sigmoid(z)\n",
        "\n",
        "  cost = (-1/m) * np.sum((Y * np.log(A)) + ((1-Y) * np.log(1-A)))\n",
        "\n",
        "  # backward propagation\n",
        "  dw = (1/m) * np.dot(X,(A-Y).T)\n",
        "  db = (1/m) * np.sum(A-Y)\n",
        "\n",
        "  cost = np.squeeze(cost)\n",
        "\n",
        "  grads = {\"dw\": dw,\n",
        "           \"db\": db}\n",
        "\n",
        "  return grads, cost"
      ],
      "execution_count": 99,
      "outputs": []
    },
    {
      "cell_type": "code",
      "metadata": {
        "id": "i3hFboY5aHae",
        "colab_type": "code",
        "colab": {
          "base_uri": "https://localhost:8080/",
          "height": 144
        },
        "outputId": "76349b4f-0312-491e-a118-0d8396ee80c1"
      },
      "source": [
        "w, b, X, Y = np.random.randn(5,1), 0, np.random.randn(5,2), np.random.randn(4,1)\n",
        "grads, cost = propagate(w,b,X,Y)\n",
        "\n",
        "print(\"dw = \" + str(grads[\"dw\"]))\n",
        "print(\"db = \" + str(grads[\"db\"]))\n",
        "print(\"cost = \" + str(cost))"
      ],
      "execution_count": null,
      "outputs": [
        {
          "output_type": "stream",
          "text": [
            "dw = [[ 0.56809989  0.89513801  0.64957795  0.06816779]\n",
            " [ 0.69290228  1.37469456  0.86276355 -0.34933051]\n",
            " [-0.34413554 -0.57214244 -0.40094103  0.00441088]\n",
            " [ 0.14509999  0.21348707  0.1621379   0.04055897]\n",
            " [-0.09803055 -0.23721785 -0.13270758  0.11474038]]\n",
            "db = 3.5650552291426276\n",
            "cost = 0.223390880684196\n"
          ],
          "name": "stdout"
        }
      ]
    },
    {
      "cell_type": "code",
      "metadata": {
        "id": "WsWqFxPzMKEZ",
        "colab_type": "code",
        "colab": {}
      },
      "source": [
        "# Update parameters\n",
        "\n",
        "def update_parameters(w, b, X, Y, num_iterations, alpha):\n",
        "\n",
        "  costs = []\n",
        "\n",
        "  for i in range(num_iterations):\n",
        "\n",
        "    grads, cost = propagate(w,b,X,Y)\n",
        "\n",
        "    dw = grads[\"dw\"]\n",
        "    db = grads[\"db\"]\n",
        "\n",
        "    w = w - alpha*dw\n",
        "    b = b - alpha*db\n",
        "\n",
        "    if i%100 == 0:\n",
        "      costs.append(cost)\n",
        "\n",
        "    if i%100 == 0:\n",
        "      print(\"cost after iteration %i: %f\" %(i,cost))\n",
        "\n",
        "    params = {\"w\": w, \n",
        "              \"b\": b}\n",
        "    \n",
        "    grads = {\"dw\": dw,\n",
        "             \"db\": db}\n",
        "\n",
        "  return params, grads, costs"
      ],
      "execution_count": 83,
      "outputs": []
    },
    {
      "cell_type": "code",
      "metadata": {
        "id": "jjUbx-6aMV1h",
        "colab_type": "code",
        "colab": {
          "base_uri": "https://localhost:8080/",
          "height": 417
        },
        "outputId": "79c32ef4-e106-4f06-bde6-93eafc6e1735"
      },
      "source": [
        "params, grads, costs = update_parameters(w, b, X, Y, 100, 0.2)\n",
        "\n",
        "print(\"w = \" + str(params[\"w\"]))\n",
        "print(\"b = \" + str(params[\"b\"]))\n",
        "print(\"dw = \" + str(grads[\"dw\"]))\n",
        "print(\"db = \" + str(grads[\"db\"]))"
      ],
      "execution_count": null,
      "outputs": [
        {
          "output_type": "stream",
          "text": [
            "cost after iteration 0: 0.223391\n",
            "cost after iteration 10: -19.164993\n",
            "cost after iteration 20: -35.114880\n",
            "cost after iteration 30: -51.035553\n",
            "cost after iteration 40: -66.954632\n",
            "cost after iteration 50: -82.873603\n",
            "cost after iteration 60: -98.792566\n",
            "cost after iteration 70: -114.711529\n",
            "cost after iteration 80: -130.630491\n",
            "cost after iteration 90: -146.549454\n",
            "w = [[ -3.6741831  -10.19050633  -5.29629619   6.22723755]\n",
            " [-10.43052741 -24.05386231 -13.82405548  10.37166209]\n",
            " [  5.27810631   9.82526782   6.41027353  -1.64197253]\n",
            " [ -0.0471885   -1.40776222  -0.38575607   2.01472629]\n",
            " [  2.12968315   4.91427175   2.8235143   -2.1312229 ]]\n",
            "b = -44.24034955827079\n",
            "dw = [[ 0.22801882  0.55505693  0.30949687 -0.27191329]\n",
            " [ 0.47536192  1.1571542   0.64522319 -0.56687086]\n",
            " [-0.15897187 -0.38697877 -0.21577736  0.18957455]\n",
            " [ 0.04768111  0.11606819  0.06471902 -0.0568599 ]\n",
            " [-0.09704473 -0.23623203 -0.13172176  0.1157262 ]]\n",
            "db = 2.1795386529531564\n"
          ],
          "name": "stdout"
        }
      ]
    },
    {
      "cell_type": "code",
      "metadata": {
        "id": "PxQsoXujmFEk",
        "colab_type": "code",
        "colab": {}
      },
      "source": [
        "# Predict\n",
        "\n",
        "def predict(w, b, X):\n",
        "\n",
        "  Yhat = np.zeros((1,X.shape[1]))\n",
        "  w = w.reshape(X.shape[0],1)\n",
        "\n",
        "  A = sigmoid(np.dot(w.T,X) + b)\n",
        "\n",
        "  for i in range(A.shape[1]):\n",
        "\n",
        "    if A[0,i] <= 0.5:\n",
        "      Yhat[0,i] = 0\n",
        "\n",
        "    else:\n",
        "      Yhat[0,i] = 1\n",
        "\n",
        "    return Yhat"
      ],
      "execution_count": 84,
      "outputs": []
    },
    {
      "cell_type": "code",
      "metadata": {
        "id": "wDpiqQKr7nUJ",
        "colab_type": "code",
        "colab": {}
      },
      "source": [
        "print(\"predictions: \" + str(predict(w,b,X)))"
      ],
      "execution_count": null,
      "outputs": []
    },
    {
      "cell_type": "code",
      "metadata": {
        "id": "WI4bFUjQ9TsJ",
        "colab_type": "code",
        "colab": {}
      },
      "source": [
        "# Final model\n",
        "\n",
        "def nn_model(train_X, train_Y, test_X, test_Y, num_iterations=100, alpha=0.01):\n",
        "\n",
        "  # Initializing parameters\n",
        "  w, b = init_parameters(train_X.shape[0])\n",
        "\n",
        "  # gradient descent\n",
        "  params, grads, costs = update_parameters(w, b, train_X, train_Y, num_iterations, alpha)\n",
        "\n",
        "  # learned parameters\n",
        "  w = params[\"w\"]\n",
        "  b = params[\"b\"]\n",
        "\n",
        "  # predict\n",
        "  Y_prediction_test = predict(w, b, test_X)\n",
        "  Y_prediction_train = predict(w, b, train_X)\n",
        "\n",
        "  # accuracy \n",
        "  print(\"train accuracy: \" + str(100 - np.mean(np.abs(Y_prediction_train - train_Y))) + \"%\")\n",
        "  print(\"train accuracy: \" + str(100 - np.mean(np.abs(Y_prediction_test - test_Y))) + \"%\")\n",
        "\n",
        "  # plot learning curve\n",
        "  costs = np.squeeze(costs)\n",
        "  plt.plot(costs)\n",
        "  plt.ylabel('cost')\n",
        "  plt.xlabel('per hundred iterations')\n",
        "  plt.title(\"Learning Rate = \" + str(alpha))\n",
        "  plt.show()\n",
        "\n",
        "  return\n"
      ],
      "execution_count": 178,
      "outputs": []
    },
    {
      "cell_type": "markdown",
      "metadata": {
        "id": "homuM1yQJl2v",
        "colab_type": "text"
      },
      "source": [
        "# Training Iris Dataset"
      ]
    },
    {
      "cell_type": "code",
      "metadata": {
        "id": "QKyvnIv-TUL9",
        "colab_type": "code",
        "colab": {}
      },
      "source": [
        "from sklearn.datasets import load_iris\n",
        "iris = load_iris()"
      ],
      "execution_count": 129,
      "outputs": []
    },
    {
      "cell_type": "code",
      "metadata": {
        "id": "2-5EzorcVqx9",
        "colab_type": "code",
        "colab": {
          "base_uri": "https://localhost:8080/",
          "height": 53
        },
        "outputId": "9280de57-72a8-4745-f6a5-1b0964e9ae8d"
      },
      "source": [
        "print(\"Input shape: \" + str(iris.data.shape))\n",
        "print(\"Target data shape: \" + str(iris.target.shape))"
      ],
      "execution_count": 130,
      "outputs": [
        {
          "output_type": "stream",
          "text": [
            "Input shape: (150, 4)\n",
            "Target data shape: (150,)\n"
          ],
          "name": "stdout"
        }
      ]
    },
    {
      "cell_type": "code",
      "metadata": {
        "id": "-Tar6vMIavT0",
        "colab_type": "code",
        "colab": {}
      },
      "source": [
        "# splitting dataset\n",
        "from sklearn.model_selection import train_test_split\n",
        "x_train, x_test, y_train, y_test = train_test_split(iris.data, iris.target, test_size = 0.25, random_state=0)"
      ],
      "execution_count": 131,
      "outputs": []
    },
    {
      "cell_type": "code",
      "metadata": {
        "id": "aOodtXsAeQz_",
        "colab_type": "code",
        "colab": {
          "base_uri": "https://localhost:8080/",
          "height": 126
        },
        "outputId": "e4092ca5-72ba-4396-e8f6-29d8464f4a4e"
      },
      "source": [
        "# reshaping training and test examples\n",
        "\n",
        "m_train = x_train.shape[0]\n",
        "m_test = x_test.shape[0]\n",
        "\n",
        "\n",
        "\n",
        "x_train = x_train.reshape(x_train.shape[0], -1).T\n",
        "x_test = x_test.reshape(x_test.shape[0], -1).T\n",
        "\n",
        "x_train = x_train/255\n",
        "x_test = x_test/255\n",
        "\n",
        "y_train = y_train.reshape(1,m_train)\n",
        "y_test = y_test.reshape(1,m_test)\n",
        "\n",
        "print(\"No. of training examples: \" + str(m_train))\n",
        "print(\"No. of testing examples: \" + str(m_test))\n",
        "print(\"x_train shape: \" + str(x_train.shape))\n",
        "print(\"y_train shape: \" + str(y_train.shape))\n",
        "print(\"x_test shape: \" + str(x_test.shape))\n",
        "print(\"y_test shape: \" + str(y_test.shape))"
      ],
      "execution_count": 132,
      "outputs": [
        {
          "output_type": "stream",
          "text": [
            "No. of training examples: 112\n",
            "No. of testing examples: 38\n",
            "x_train shape: (4, 112)\n",
            "y_train shape: (1, 112)\n",
            "x_test shape: (4, 38)\n",
            "y_test shape: (1, 38)\n"
          ],
          "name": "stdout"
        }
      ]
    },
    {
      "cell_type": "code",
      "metadata": {
        "id": "nz0KoNCSbRwT",
        "colab_type": "code",
        "colab": {
          "base_uri": "https://localhost:8080/",
          "height": 876
        },
        "outputId": "323e6ab2-5188-482a-f93a-866871867063"
      },
      "source": [
        "nn_model(x_train, y_train, x_test, y_test, num_iterations=3000, alpha=0.011)"
      ],
      "execution_count": 179,
      "outputs": [
        {
          "output_type": "stream",
          "text": [
            "cost after iteration 0: 0.693147\n",
            "cost after iteration 100: 0.449046\n",
            "cost after iteration 200: 0.303329\n",
            "cost after iteration 300: 0.210643\n",
            "cost after iteration 400: 0.147716\n",
            "cost after iteration 500: 0.102523\n",
            "cost after iteration 600: 0.068537\n",
            "cost after iteration 700: 0.042005\n",
            "cost after iteration 800: 0.020651\n",
            "cost after iteration 900: 0.003030\n",
            "cost after iteration 1000: -0.011819\n",
            "cost after iteration 1100: -0.024553\n",
            "cost after iteration 1200: -0.035637\n",
            "cost after iteration 1300: -0.045410\n",
            "cost after iteration 1400: -0.054123\n",
            "cost after iteration 1500: -0.061966\n",
            "cost after iteration 1600: -0.069088\n",
            "cost after iteration 1700: -0.075602\n",
            "cost after iteration 1800: -0.081601\n",
            "cost after iteration 1900: -0.087160\n",
            "cost after iteration 2000: -0.092337\n",
            "cost after iteration 2100: -0.097184\n",
            "cost after iteration 2200: -0.101740\n",
            "cost after iteration 2300: -0.106041\n",
            "cost after iteration 2400: -0.110116\n",
            "cost after iteration 2500: -0.113990\n",
            "cost after iteration 2600: -0.117683\n",
            "cost after iteration 2700: -0.121215\n",
            "cost after iteration 2800: -0.124601\n",
            "cost after iteration 2900: -0.127854\n",
            "train accuracy: 98.97321428571429%\n",
            "train accuracy: 99.13157894736842%\n"
          ],
          "name": "stdout"
        },
        {
          "output_type": "display_data",
          "data": {
            "image/png": "[encoded data removed]",
            "text/plain": [
              "<Figure size 432x288 with 1 Axes>"
            ]
          },
          "metadata": {
            "tags": [],
            "needs_background": "light"
          }
        }
      ]
    }
  ]
}