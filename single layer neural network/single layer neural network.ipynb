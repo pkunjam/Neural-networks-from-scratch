{
  "nbformat": 4,
  "nbformat_minor": 0,
  "metadata": {
    "colab": {
      "name": "Untitled2.ipynb",
      "provenance": []
    },
    "kernelspec": {
      "name": "python3",
      "display_name": "Python 3"
    }
  },
  "cells": [
    {
      "cell_type": "markdown",
      "metadata": {
        "id": "2q7lQUjYGBPw",
        "colab_type": "text"
      },
      "source": [
        "# Single Layer Neural Network"
      ]
    },
    {
      "cell_type": "code",
      "metadata": {
        "id": "3U17f_s2BO8h",
        "colab_type": "code",
        "colab": {}
      },
      "source": [
        "import numpy as np\n",
        "import matplotlib.pyplot as plt"
      ],
      "execution_count": 98,
      "outputs": []
    },
    {
      "cell_type": "code",
      "metadata": {
        "id": "vLRkR_eRTqMX",
        "colab_type": "code",
        "colab": {}
      },
      "source": [
        "# Input features and target output\n",
        "\n",
        "train_X = np.array([[0,0],[0,1],[1,0],[1,1]])\n",
        "train_Y = np.array([[0,1,1,1]])\n",
        "\n",
        "train_Y = train_Y.reshape(4,1)"
      ],
      "execution_count": 87,
      "outputs": []
    },
    {
      "cell_type": "code",
      "metadata": {
        "id": "zk3tSb0DKr35",
        "colab_type": "code",
        "colab": {}
      },
      "source": [
        "# Activation function\n",
        "\n",
        "def sigmoid(z):\n",
        "\n",
        "  val = 1/(1+np.exp(-z))\n",
        "\n",
        "  return val"
      ],
      "execution_count": 12,
      "outputs": []
    },
    {
      "cell_type": "code",
      "metadata": {
        "id": "xGhtMAGmKkYq",
        "colab_type": "code",
        "colab": {}
      },
      "source": [
        "# Initializing parameters\n",
        "\n",
        "def init_parameters(dim):\n",
        "\n",
        "  w = np.random.randn(dim,1)\n",
        "  b = 0\n",
        "\n",
        "  return w,b"
      ],
      "execution_count": 28,
      "outputs": []
    },
    {
      "cell_type": "code",
      "metadata": {
        "id": "FiVEByIsNHNJ",
        "colab_type": "code",
        "colab": {
          "base_uri": "https://localhost:8080/",
          "height": 108
        },
        "outputId": "8c398b9c-40f4-4e44-ef42-1bb5fbba8639"
      },
      "source": [
        "w, b = init_parameters(4)\n",
        "\n",
        "print(\"w = \" + str(w))\n",
        "print(\"b = \" + str(b))"
      ],
      "execution_count": 29,
      "outputs": [
        {
          "output_type": "stream",
          "text": [
            "w = [[-0.17334324]\n",
            " [-0.11705563]\n",
            " [-1.02097082]\n",
            " [ 0.07737618]]\n",
            "b = 0.2\n"
          ],
          "name": "stdout"
        }
      ]
    },
    {
      "cell_type": "code",
      "metadata": {
        "id": "X1J-9zpuLl0v",
        "colab_type": "code",
        "colab": {}
      },
      "source": [
        "# Propagation\n",
        "\n",
        "def propagate(w,b,X,Y):\n",
        "\n",
        "  # no. of training examples\n",
        "  m = X.shape[1]\n",
        "\n",
        "  # forward propagation\n",
        "  z = np.dot(w.T,X) + b\n",
        "  A = sigmoid(z)\n",
        "\n",
        "  cost = (-1/m) * np.sum((Y * np.log(A)) + ((1-Y) * np.log(1-A)))\n",
        "\n",
        "  # backward propagation\n",
        "  dw = (1/m) * np.dot(X,(A-Y).T)\n",
        "  db = (1/m) * np.sum(A-Y)\n",
        "\n",
        "  cost = np.squeeze(cost)\n",
        "\n",
        "  grads = {\"dw\": dw,\n",
        "           \"db\": db}\n",
        "\n",
        "  return grads, cost"
      ],
      "execution_count": 47,
      "outputs": []
    },
    {
      "cell_type": "code",
      "metadata": {
        "id": "i3hFboY5aHae",
        "colab_type": "code",
        "colab": {
          "base_uri": "https://localhost:8080/",
          "height": 144
        },
        "outputId": "76349b4f-0312-491e-a118-0d8396ee80c1"
      },
      "source": [
        "w, b, X, Y = np.random.randn(5,1), 0, np.random.randn(5,2), np.random.randn(4,1)\n",
        "grads, cost = propagate(w,b,X,Y)\n",
        "\n",
        "print(\"dw = \" + str(grads[\"dw\"]))\n",
        "print(\"db = \" + str(grads[\"db\"]))\n",
        "print(\"cost = \" + str(cost))"
      ],
      "execution_count": 48,
      "outputs": [
        {
          "output_type": "stream",
          "text": [
            "dw = [[ 0.56809989  0.89513801  0.64957795  0.06816779]\n",
            " [ 0.69290228  1.37469456  0.86276355 -0.34933051]\n",
            " [-0.34413554 -0.57214244 -0.40094103  0.00441088]\n",
            " [ 0.14509999  0.21348707  0.1621379   0.04055897]\n",
            " [-0.09803055 -0.23721785 -0.13270758  0.11474038]]\n",
            "db = 3.5650552291426276\n",
            "cost = 0.223390880684196\n"
          ],
          "name": "stdout"
        }
      ]
    },
    {
      "cell_type": "code",
      "metadata": {
        "id": "WsWqFxPzMKEZ",
        "colab_type": "code",
        "colab": {}
      },
      "source": [
        "# Update parameters\n",
        "\n",
        "def update_parameters(w, b, X, Y, num_iterations, alpha):\n",
        "\n",
        "  costs = []\n",
        "\n",
        "  for i in range(num_iterations):\n",
        "\n",
        "    grads, cost = propagate(w,b,X,Y)\n",
        "\n",
        "    dw = grads[\"dw\"]\n",
        "    db = grads[\"db\"]\n",
        "\n",
        "    w = w - alpha*dw\n",
        "    b = b - alpha*db\n",
        "\n",
        "    if i%100 == 0:\n",
        "      costs.append(cost)\n",
        "\n",
        "    if i%100 == 0:\n",
        "      print(\"cost after iteration %i: %f\" %(i,cost))\n",
        "\n",
        "    params = {\"w\": w, \n",
        "              \"b\": b}\n",
        "    \n",
        "    grads = {\"dw\": dw,\n",
        "             \"db\": db}\n",
        "\n",
        "  return params, grads, costs"
      ],
      "execution_count": 95,
      "outputs": []
    },
    {
      "cell_type": "code",
      "metadata": {
        "id": "jjUbx-6aMV1h",
        "colab_type": "code",
        "colab": {
          "base_uri": "https://localhost:8080/",
          "height": 417
        },
        "outputId": "79c32ef4-e106-4f06-bde6-93eafc6e1735"
      },
      "source": [
        "params, grads, costs = update_parameters(w, b, X, Y, 100, 0.2)\n",
        "\n",
        "print(\"w = \" + str(params[\"w\"]))\n",
        "print(\"b = \" + str(params[\"b\"]))\n",
        "print(\"dw = \" + str(grads[\"dw\"]))\n",
        "print(\"db = \" + str(grads[\"db\"]))"
      ],
      "execution_count": 91,
      "outputs": [
        {
          "output_type": "stream",
          "text": [
            "cost after iteration 0: 0.223391\n",
            "cost after iteration 10: -19.164993\n",
            "cost after iteration 20: -35.114880\n",
            "cost after iteration 30: -51.035553\n",
            "cost after iteration 40: -66.954632\n",
            "cost after iteration 50: -82.873603\n",
            "cost after iteration 60: -98.792566\n",
            "cost after iteration 70: -114.711529\n",
            "cost after iteration 80: -130.630491\n",
            "cost after iteration 90: -146.549454\n",
            "w = [[ -3.6741831  -10.19050633  -5.29629619   6.22723755]\n",
            " [-10.43052741 -24.05386231 -13.82405548  10.37166209]\n",
            " [  5.27810631   9.82526782   6.41027353  -1.64197253]\n",
            " [ -0.0471885   -1.40776222  -0.38575607   2.01472629]\n",
            " [  2.12968315   4.91427175   2.8235143   -2.1312229 ]]\n",
            "b = -44.24034955827079\n",
            "dw = [[ 0.22801882  0.55505693  0.30949687 -0.27191329]\n",
            " [ 0.47536192  1.1571542   0.64522319 -0.56687086]\n",
            " [-0.15897187 -0.38697877 -0.21577736  0.18957455]\n",
            " [ 0.04768111  0.11606819  0.06471902 -0.0568599 ]\n",
            " [-0.09704473 -0.23623203 -0.13172176  0.1157262 ]]\n",
            "db = 2.1795386529531564\n"
          ],
          "name": "stdout"
        }
      ]
    },
    {
      "cell_type": "code",
      "metadata": {
        "id": "PxQsoXujmFEk",
        "colab_type": "code",
        "colab": {}
      },
      "source": [
        "# Predict\n",
        "\n",
        "def predict(w, b, X):\n",
        "\n",
        "  Yhat = np.zeros((1,X.shape[1]))\n",
        "\n",
        "  A = sigmoid(np.dot(w.T,X) + b)\n",
        "\n",
        "  for i in range(A.shape[1]):\n",
        "\n",
        "    if A[0,i] <= 0.5:\n",
        "      Yhat[0,i] = 0\n",
        "\n",
        "    else:\n",
        "      Yhat[0,i] = 1\n",
        "\n",
        "    return Yhat"
      ],
      "execution_count": 88,
      "outputs": []
    },
    {
      "cell_type": "code",
      "metadata": {
        "id": "wDpiqQKr7nUJ",
        "colab_type": "code",
        "colab": {
          "base_uri": "https://localhost:8080/",
          "height": 35
        },
        "outputId": "f71810de-ce2c-4593-de30-bf1978eacf5b"
      },
      "source": [
        "print(\"predictions: \" + str(predict(w,b,X)))"
      ],
      "execution_count": 89,
      "outputs": [
        {
          "output_type": "stream",
          "text": [
            "predictions: [[1. 0.]]\n"
          ],
          "name": "stdout"
        }
      ]
    },
    {
      "cell_type": "code",
      "metadata": {
        "id": "WI4bFUjQ9TsJ",
        "colab_type": "code",
        "colab": {}
      },
      "source": [
        "# Final model\n",
        "\n",
        "def nn_model(train_X, train_Y, num_iterations=100, alpha=0.01):\n",
        "\n",
        "  # Initializing parameters\n",
        "  w, b = init_parameters(train_X.shape[0])\n",
        "\n",
        "  # gradient descent\n",
        "  params, grads, costs = update_parameters(w, b, train_X, train_Y, num_iterations, alpha)\n",
        "\n",
        "  # learned parameters\n",
        "  w = params[\"w\"]\n",
        "  b = params[\"b\"]\n",
        "\n",
        "  # predict\n",
        "  Y_prediction = predict(w, b, train_X)\n",
        "\n",
        "  # plot learning curve\n",
        "  costs = np.squeeze(costs)\n",
        "  plt.plot(costs)\n",
        "  plt.ylabel('cost')\n",
        "  plt.xlabel('per hundred iterations')\n",
        "  plt.title(\"Learning Rate = \" + str(alpha))\n",
        "  plt.show()\n",
        "\n",
        "  return\n"
      ],
      "execution_count": 116,
      "outputs": []
    },
    {
      "cell_type": "code",
      "metadata": {
        "id": "Z4j_ZfbvDVH5",
        "colab_type": "code",
        "colab": {
          "base_uri": "https://localhost:8080/",
          "height": 658
        },
        "outputId": "d0754da0-34fe-4997-8da9-8eac9dbfbf65"
      },
      "source": [
        "nn_model(train_X, train_Y, num_iterations = 2000, alpha = 0.0037)"
      ],
      "execution_count": 117,
      "outputs": [
        {
          "output_type": "stream",
          "text": [
            "cost after iteration 0: 2.258081\n",
            "cost after iteration 100: 1.883120\n",
            "cost after iteration 200: 1.585187\n",
            "cost after iteration 300: 1.350739\n",
            "cost after iteration 400: 1.166012\n",
            "cost after iteration 500: 1.019209\n",
            "cost after iteration 600: 0.901118\n",
            "cost after iteration 700: 0.804852\n",
            "cost after iteration 800: 0.725344\n",
            "cost after iteration 900: 0.658860\n",
            "cost after iteration 1000: 0.602632\n",
            "cost after iteration 1100: 0.554584\n",
            "cost after iteration 1200: 0.513138\n",
            "cost after iteration 1300: 0.477083\n",
            "cost after iteration 1400: 0.445475\n",
            "cost after iteration 1500: 0.417571\n",
            "cost after iteration 1600: 0.392780\n",
            "cost after iteration 1700: 0.370626\n",
            "cost after iteration 1800: 0.350725\n",
            "cost after iteration 1900: 0.332759\n"
          ],
          "name": "stdout"
        },
        {
          "output_type": "display_data",
          "data": {
            "image/png": "[encoded data removed]",
            "text/plain": [
              "<Figure size 432x288 with 1 Axes>"
            ]
          },
          "metadata": {
            "tags": [],
            "needs_background": "light"
          }
        }
      ]
    }
  ]
}